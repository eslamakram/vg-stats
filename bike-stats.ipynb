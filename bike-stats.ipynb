{
 "cells": [
  {
   "cell_type": "code",
   "execution_count": 3,
   "id": "aa683010-f84e-43fd-99b9-9bd96dd2f5d2",
   "metadata": {
    "tags": []
   },
   "outputs": [
    {
     "name": "stderr",
     "output_type": "stream",
     "text": [
      "b'Skipping line 50794: expected 12 fields, saw 20\\n'\n"
     ]
    }
   ],
   "source": [
    "%matplotlib inline\n",
    "\n",
    "import matplotlib.pyplot as plt\n",
    "\n",
    "import pandas as pd\n",
    "df_station = pd.read_csv('station.csv')\n",
    "df_weather = pd.read_csv('weather.csv')\n",
    "df_trip = pd.read_csv('trip.csv',error_bad_lines=False)\n",
    "\n"
   ]
  },
  {
   "cell_type": "markdown",
   "id": "c4a70a00-a97e-48ad-9da3-fcb72f5e90d0",
   "metadata": {},
   "source": [
    "## What is the average trip duration for a borrowed bicycle?\n"
   ]
  },
  {
   "cell_type": "code",
   "execution_count": 4,
   "id": "c9153404-1d70-4953-a68e-83d23d8746c2",
   "metadata": {},
   "outputs": [
    {
     "name": "stdout",
     "output_type": "stream",
     "text": [
      "The average trip duration for a borrowed bicycle:  1178.2956753399776\n"
     ]
    }
   ],
   "source": [
    "trip_average=df_trip[\"tripduration\"].mean()\n",
    "print(f\"The average trip duration for a borrowed bicycle:  {trip_average}\")"
   ]
  },
  {
   "cell_type": "markdown",
   "id": "65b38fff-ac63-4468-a52f-75dfa9f1971c",
   "metadata": {},
   "source": [
    "## What’s the most common age of a bicycle-sharer?\n"
   ]
  },
  {
   "cell_type": "code",
   "execution_count": 6,
   "id": "3d50183e-b3d9-49c4-9852-5cf34f1215bb",
   "metadata": {},
   "outputs": [],
   "source": [
    "common_age = 2021 - df_trip[\"birthyear\"]\n",
    "common_age = common_age.mode()[0]"
   ]
  },
  {
   "cell_type": "markdown",
   "id": "b542b680-cb13-46d4-a33d-367051b2d120",
   "metadata": {},
   "source": [
    "## Given all the weather data here, find the average precipitation per month, and the median precipitation."
   ]
  },
  {
   "cell_type": "code",
   "execution_count": 7,
   "id": "b25c9a51-c71a-44e3-8b1e-0a38744c3815",
   "metadata": {},
   "outputs": [
    {
     "name": "stdout",
     "output_type": "stream",
     "text": [
      "The verage of precipitation is 0.10506531204644412 and the median is 0.0\n"
     ]
    }
   ],
   "source": [
    "precipitation_average = df_weather[\"Precipitation_In\"].mean()\n",
    "precipitation_median = df_weather[\"Precipitation_In\"].median()\n",
    "print(f\"The verage of precipitation is {precipitation_average} and the median is {precipitation_median}\")\n"
   ]
  },
  {
   "cell_type": "markdown",
   "id": "09bfef57-c0c2-486d-8904-2852bca51c41",
   "metadata": {},
   "source": [
    "## What’s the average number of bikes at a given bike station?\n"
   ]
  },
  {
   "cell_type": "code",
   "execution_count": 8,
   "id": "42c16111-8e23-4510-ae9f-656164b63bde",
   "metadata": {},
   "outputs": [
    {
     "data": {
      "text/plain": [
       "17.586206896551722"
      ]
     },
     "execution_count": 8,
     "metadata": {},
     "output_type": "execute_result"
    }
   ],
   "source": [
    "avg_no_bikes = df_station['install_dockcount'].mean()\n",
    "avg_no_bikes"
   ]
  },
  {
   "cell_type": "markdown",
   "id": "a4a41a43-f0ad-407e-82d6-b618a280e40f",
   "metadata": {},
   "source": [
    "## When a bike station is modified, is it more likely that it’ll lose bikes or gain bikes? How do you know?"
   ]
  },
  {
   "cell_type": "code",
   "execution_count": 10,
   "id": "e066b944-f439-4ecf-9d8b-b8c2f5fa00c9",
   "metadata": {},
   "outputs": [
    {
     "name": "stdout",
     "output_type": "stream",
     "text": [
      "-64\n"
     ]
    }
   ],
   "source": [
    "dates = df_station[['modification_date','current_dockcount','install_dockcount']].dropna()\n",
    "datesNew = dates['current_dockcount'].sum() - dates['install_dockcount'].sum()\n",
    "print(datesNew)"
   ]
  },
  {
   "cell_type": "markdown",
   "id": "6c7a498b-0060-4b38-8ffc-65e21d47c709",
   "metadata": {
    "tags": []
   },
   "source": [
    "## Come up with 3 more questions that can be answered with this data set"
   ]
  },
  {
   "cell_type": "code",
   "execution_count": 12,
   "id": "8778a6dd-a2e6-4230-8003-04d6c3d7e058",
   "metadata": {},
   "outputs": [
    {
     "data": {
      "text/plain": [
       "'Male'"
      ]
     },
     "execution_count": 12,
     "metadata": {},
     "output_type": "execute_result"
    }
   ],
   "source": [
    "# What is the common gender rides bike?\n",
    "com_gend = df_trip['gender'].mode()\n",
    "com_gend[0]"
   ]
  },
  {
   "cell_type": "markdown",
   "id": "33e32e1b-dcbb-4028-9b34-d76cb17e6d0f",
   "metadata": {},
   "source": [
    "**Top 10 of maximim temp**"
   ]
  },
  {
   "cell_type": "code",
   "execution_count": 13,
   "id": "f1dcb881-1f78-41c6-8c4f-f1f98dbdd3a4",
   "metadata": {},
   "outputs": [
    {
     "data": {
      "text/html": [
       "<div>\n",
       "<style scoped>\n",
       "    .dataframe tbody tr th:only-of-type {\n",
       "        vertical-align: middle;\n",
       "    }\n",
       "\n",
       "    .dataframe tbody tr th {\n",
       "        vertical-align: top;\n",
       "    }\n",
       "\n",
       "    .dataframe thead th {\n",
       "        text-align: right;\n",
       "    }\n",
       "</style>\n",
       "<table border=\"1\" class=\"dataframe\">\n",
       "  <thead>\n",
       "    <tr style=\"text-align: right;\">\n",
       "      <th></th>\n",
       "      <th>Date</th>\n",
       "      <th>Max_Temperature_F</th>\n",
       "      <th>Mean_Temperature_F</th>\n",
       "      <th>Min_TemperatureF</th>\n",
       "      <th>Max_Dew_Point_F</th>\n",
       "      <th>MeanDew_Point_F</th>\n",
       "      <th>Min_Dewpoint_F</th>\n",
       "      <th>Max_Humidity</th>\n",
       "      <th>Mean_Humidity</th>\n",
       "      <th>Min_Humidity</th>\n",
       "      <th>...</th>\n",
       "      <th>Mean_Sea_Level_Pressure_In</th>\n",
       "      <th>Min_Sea_Level_Pressure_In</th>\n",
       "      <th>Max_Visibility_Miles</th>\n",
       "      <th>Mean_Visibility_Miles</th>\n",
       "      <th>Min_Visibility_Miles</th>\n",
       "      <th>Max_Wind_Speed_MPH</th>\n",
       "      <th>Mean_Wind_Speed_MPH</th>\n",
       "      <th>Max_Gust_Speed_MPH</th>\n",
       "      <th>Precipitation_In</th>\n",
       "      <th>Events</th>\n",
       "    </tr>\n",
       "  </thead>\n",
       "  <tbody>\n",
       "    <tr>\n",
       "      <th>78</th>\n",
       "      <td>12/30/2014</td>\n",
       "      <td>39</td>\n",
       "      <td>34.0</td>\n",
       "      <td>30</td>\n",
       "      <td>24</td>\n",
       "      <td>17</td>\n",
       "      <td>14</td>\n",
       "      <td>73</td>\n",
       "      <td>51</td>\n",
       "      <td>35</td>\n",
       "      <td>...</td>\n",
       "      <td>30.81</td>\n",
       "      <td>30.75</td>\n",
       "      <td>10</td>\n",
       "      <td>10</td>\n",
       "      <td>10</td>\n",
       "      <td>6</td>\n",
       "      <td>1</td>\n",
       "      <td>-</td>\n",
       "      <td>0.0</td>\n",
       "      <td>NaN</td>\n",
       "    </tr>\n",
       "  </tbody>\n",
       "</table>\n",
       "<p>1 rows × 21 columns</p>\n",
       "</div>"
      ],
      "text/plain": [
       "          Date  Max_Temperature_F  Mean_Temperature_F  Min_TemperatureF  \\\n",
       "78  12/30/2014                 39                34.0                30   \n",
       "\n",
       "    Max_Dew_Point_F  MeanDew_Point_F  Min_Dewpoint_F  Max_Humidity  \\\n",
       "78               24               17              14            73   \n",
       "\n",
       "    Mean_Humidity  Min_Humidity  ...  Mean_Sea_Level_Pressure_In  \\\n",
       "78             51            35  ...                       30.81   \n",
       "\n",
       "    Min_Sea_Level_Pressure_In  Max_Visibility_Miles  Mean_Visibility_Miles  \\\n",
       "78                      30.75                    10                     10   \n",
       "\n",
       "    Min_Visibility_Miles  Max_Wind_Speed_MPH  Mean_Wind_Speed_MPH  \\\n",
       "78                    10                   6                    1   \n",
       "\n",
       "    Max_Gust_Speed_MPH Precipitation_In  Events  \n",
       "78                   -              0.0     NaN  \n",
       "\n",
       "[1 rows x 21 columns]"
      ]
     },
     "execution_count": 13,
     "metadata": {},
     "output_type": "execute_result"
    }
   ],
   "source": [
    "df_weather = pd.read_csv('weather.csv')\n",
    "temperature_max = df_weather.sort_values(\"Max_Temperature_F\",ascending=True).head(1)\n",
    "temperature_max"
   ]
  },
  {
   "cell_type": "code",
   "execution_count": 14,
   "id": "dad1b1bb-d8ca-4ec1-92c9-1e5ede6fa73f",
   "metadata": {},
   "outputs": [
    {
     "data": {
      "text/plain": [
       "624.842"
      ]
     },
     "execution_count": 14,
     "metadata": {},
     "output_type": "execute_result"
    }
   ],
   "source": [
    "# What is the median trip duration for a borrowed bicycle?\n",
    "tripMedianDur=df_trip['tripduration'].median()\n",
    "tripMedianDur"
   ]
  },
  {
   "cell_type": "code",
   "execution_count": 16,
   "id": "1a5b6ae8-7f4b-42e7-b940-2b97172636c6",
   "metadata": {},
   "outputs": [
    {
     "name": "stdout",
     "output_type": "stream",
     "text": [
      "Success!!!\n"
     ]
    }
   ],
   "source": [
    "def test():\n",
    "\n",
    "    def assert_equal(actual,expected):\n",
    "        assert actual == expected, f\"Expected {expected} but got {actual}\"\n",
    "\n",
    "        assert_equal(trip_average, 1178.2956753399776)\n",
    "        assert_equal(common_age, 34.0)\n",
    "        assert_equal(avg_no_bikes, 17.586206896551722)\n",
    "        assert_equal(datesNew, -64)\n",
    "        assert_equal(com_gend[0], 'Male')\n",
    "        assert_equal(tripMedianDur, 624.842)\n",
    "\n",
    "    print(\"Success!!!\")\n",
    "\n",
    "test()"
   ]
  },
  {
   "cell_type": "code",
   "execution_count": null,
   "id": "fa0427b9-131a-4738-84a0-be6698da3620",
   "metadata": {},
   "outputs": [],
   "source": []
  }
 ],
 "metadata": {
  "kernelspec": {
   "display_name": "Python 3 (ipykernel)",
   "language": "python",
   "name": "python3"
  },
  "language_info": {
   "codemirror_mode": {
    "name": "ipython",
    "version": 3
   },
   "file_extension": ".py",
   "mimetype": "text/x-python",
   "name": "python",
   "nbconvert_exporter": "python",
   "pygments_lexer": "ipython3",
   "version": "3.9.5"
  }
 },
 "nbformat": 4,
 "nbformat_minor": 5
}
