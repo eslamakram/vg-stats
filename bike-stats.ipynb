{
 "cells": [
  {
   "cell_type": "code",
   "execution_count": 2,
   "id": "aa683010-f84e-43fd-99b9-9bd96dd2f5d2",
   "metadata": {
    "tags": []
   },
   "outputs": [
    {
     "name": "stderr",
     "output_type": "stream",
     "text": [
      "/home/eslamakram/python-fun/vg-stats/.venv/lib/python3.9/site-packages/IPython/core/interactiveshell.py:3444: FutureWarning: The error_bad_lines argument has been deprecated and will be removed in a future version.\n",
      "\n",
      "\n",
      "  exec(code_obj, self.user_global_ns, self.user_ns)\n",
      "b'Skipping line 50794: expected 12 fields, saw 20\\n'\n"
     ]
    }
   ],
   "source": [
    "%matplotlib inline\n",
    "\n",
    "import matplotlib.pyplot as plt\n",
    "\n",
    "import pandas as pd\n",
    "df_station = pd.read_csv('station.csv')\n",
    "df_weather = pd.read_csv('weather.csv')\n",
    "df_trip = pd.read_csv('trip.csv',error_bad_lines=False)\n",
    "\n"
   ]
  },
  {
   "cell_type": "markdown",
   "id": "c4a70a00-a97e-48ad-9da3-fcb72f5e90d0",
   "metadata": {},
   "source": [
    "## What is the average trip duration for a borrowed bicycle?\n"
   ]
  },
  {
   "cell_type": "code",
   "execution_count": 3,
   "id": "c9153404-1d70-4953-a68e-83d23d8746c2",
   "metadata": {},
   "outputs": [
    {
     "name": "stdout",
     "output_type": "stream",
     "text": [
      "The average trip duration for a borrowed bicycle:  1178.2956753399776\n"
     ]
    }
   ],
   "source": [
    "trip_average=df_trip[\"tripduration\"].mean()\n",
    "print(f\"The average trip duration for a borrowed bicycle:  {trip_average}\")"
   ]
  },
  {
   "cell_type": "markdown",
   "id": "65b38fff-ac63-4468-a52f-75dfa9f1971c",
   "metadata": {},
   "source": [
    "## What’s the most common age of a bicycle-sharer?\n"
   ]
  },
  {
   "cell_type": "code",
   "execution_count": 7,
   "id": "3d50183e-b3d9-49c4-9852-5cf34f1215bb",
   "metadata": {},
   "outputs": [
    {
     "data": {
      "text/plain": [
       "34.0"
      ]
     },
     "execution_count": 7,
     "metadata": {},
     "output_type": "execute_result"
    }
   ],
   "source": [
    "common_age = 2021 - df_trip[\"birthyear\"]\n",
    "common_age.mode()[0]"
   ]
  },
  {
   "cell_type": "markdown",
   "id": "b542b680-cb13-46d4-a33d-367051b2d120",
   "metadata": {},
   "source": [
    "## Given all the weather data here, find the average precipitation per month, and the median precipitation."
   ]
  },
  {
   "cell_type": "code",
   "execution_count": 10,
   "id": "b25c9a51-c71a-44e3-8b1e-0a38744c3815",
   "metadata": {},
   "outputs": [
    {
     "name": "stdout",
     "output_type": "stream",
     "text": [
      "The verage of precipitation is 0.10506531204644412 and the median is 0.0\n"
     ]
    }
   ],
   "source": [
    "precipitation_average = df_weather[\"Precipitation_In\"].mean()\n",
    "precipitation_median = df_weather[\"Precipitation_In\"].median()\n",
    "print(f\"The verage of precipitation is {precipitation_average} and the median is {precipitation_median}\")\n"
   ]
  },
  {
   "cell_type": "markdown",
   "id": "09bfef57-c0c2-486d-8904-2852bca51c41",
   "metadata": {},
   "source": [
    "## What’s the average number of bikes at a given bike station?\n"
   ]
  },
  {
   "cell_type": "code",
   "execution_count": 12,
   "id": "42c16111-8e23-4510-ae9f-656164b63bde",
   "metadata": {},
   "outputs": [
    {
     "data": {
      "text/plain": [
       "17.586206896551722"
      ]
     },
     "execution_count": 12,
     "metadata": {},
     "output_type": "execute_result"
    }
   ],
   "source": [
    "avg_no_bikes = df_station['install_dockcount'].mean()\n",
    "avg_no_bikes"
   ]
  },
  {
   "cell_type": "markdown",
   "id": "a4a41a43-f0ad-407e-82d6-b618a280e40f",
   "metadata": {},
   "source": [
    "## When a bike station is modified, is it more likely that it’ll lose bikes or gain bikes? How do you know?"
   ]
  }
 ],
 "metadata": {
  "kernelspec": {
   "display_name": "Python 3 (ipykernel)",
   "language": "python",
   "name": "python3"
  },
  "language_info": {
   "codemirror_mode": {
    "name": "ipython",
    "version": 3
   },
   "file_extension": ".py",
   "mimetype": "text/x-python",
   "name": "python",
   "nbconvert_exporter": "python",
   "pygments_lexer": "ipython3",
   "version": "3.9.5"
  }
 },
 "nbformat": 4,
 "nbformat_minor": 5
}
